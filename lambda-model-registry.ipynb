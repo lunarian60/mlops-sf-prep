{
 "cells": [
  {
   "cell_type": "markdown",
   "id": "f0cf14a8",
   "metadata": {},
   "source": [
    "### Model Registry"
   ]
  },
  {
   "cell_type": "code",
   "execution_count": 19,
   "id": "25f7de88",
   "metadata": {},
   "outputs": [],
   "source": [
    "import boto3\n",
    "import botocore\n",
    "\n",
    "sm_client = boto3.client(\"sagemaker\")"
   ]
  },
  {
   "cell_type": "code",
   "execution_count": 5,
   "id": "8d3796f6",
   "metadata": {},
   "outputs": [],
   "source": [
    "model_package_group_name='xgboost-abalone-training'\n",
    "model_package_description = 'Model to predict the age of abalone from physical measurements'"
   ]
  },
  {
   "cell_type": "code",
   "execution_count": 9,
   "id": "2250e009",
   "metadata": {},
   "outputs": [],
   "source": [
    "image_uri = \"366743142698.dkr.ecr.ap-northeast-2.amazonaws.com/sagemaker-xgboost:1.3-1\""
   ]
  },
  {
   "cell_type": "code",
   "execution_count": 10,
   "id": "783b25c0",
   "metadata": {},
   "outputs": [],
   "source": [
    "modelpackage_inference_specification =  {\n",
    "    \"InferenceSpecification\": {\n",
    "      \"Containers\": [\n",
    "         {\n",
    "            \"Image\": image_uri,\n",
    "         }\n",
    "      ],\n",
    "      \"SupportedContentTypes\": [ \"application/x-amz-json-1.1\" ],\n",
    "      \"SupportedResponseMIMETypes\": [ \"application/x-amz-json-1.1\" ],\n",
    "   }\n",
    " }\n"
   ]
  },
  {
   "cell_type": "code",
   "execution_count": 25,
   "id": "38428ed6",
   "metadata": {},
   "outputs": [],
   "source": [
    "#TODO: specify the model source\n",
    "model_url = \"\""
   ]
  },
  {
   "cell_type": "code",
   "execution_count": 26,
   "id": "3aa6a20e",
   "metadata": {},
   "outputs": [],
   "source": [
    "# Specify the model data\n",
    "create_model_package_input_dict = {\n",
    "    \"ModelPackageGroupName\" : model_package_group_name,\n",
    "    \"ModelPackageDescription\" : model_package_description,\n",
    "    \"ModelApprovalStatus\" : \"PendingManualApproval\"\n",
    "}"
   ]
  },
  {
   "cell_type": "code",
   "execution_count": 27,
   "id": "e036d810",
   "metadata": {},
   "outputs": [],
   "source": [
    "modelpackage_inference_specification[\"InferenceSpecification\"][\"Containers\"][0][\"ModelDataUrl\"]=model_url"
   ]
  },
  {
   "cell_type": "code",
   "execution_count": 28,
   "id": "4361e5c3",
   "metadata": {},
   "outputs": [],
   "source": [
    "create_model_package_input_dict.update(modelpackage_inference_specification)"
   ]
  },
  {
   "cell_type": "code",
   "execution_count": 31,
   "id": "41321213",
   "metadata": {},
   "outputs": [],
   "source": [
    "try:\n",
    "    create_mode_package_response = sm_client.create_model_package(**create_model_package_input_dict)\n",
    "except botocore.exceptions.ClientError as ce:\n",
    "    # When model package group does not exit\n",
    "    if ce.operation_name == \"CreateModelPackage\":\n",
    "        if ce.response[\"Error\"][\"Message\"] == \"Model Package Group does not exist.\":\n",
    "            # Create model package group\n",
    "            create_model_package_group_response = sm_client.create_model_package_group(\n",
    "                ModelPackageGroupName=model_package_group_name,\n",
    "                ModelPackageGroupDescription=model_package_description,\n",
    "            )\n",
    "            \n",
    "            create_mode_package_response = sm_client.create_model_package(**create_model_package_input_dict)"
   ]
  },
  {
   "cell_type": "code",
   "execution_count": 32,
   "id": "b92b15da",
   "metadata": {},
   "outputs": [
    {
     "data": {
      "text/plain": [
       "{'ModelPackageArn': 'arn:aws:sagemaker:ap-northeast-2:687314952804:model-package/xgboost-abalone-training/1',\n",
       " 'ResponseMetadata': {'RequestId': 'd6bf541c-d208-44fc-a6bc-029a3ba83781',\n",
       "  'HTTPStatusCode': 200,\n",
       "  'HTTPHeaders': {'x-amzn-requestid': 'd6bf541c-d208-44fc-a6bc-029a3ba83781',\n",
       "   'content-type': 'application/x-amz-json-1.1',\n",
       "   'content-length': '108',\n",
       "   'date': 'Tue, 18 Jan 2022 14:06:38 GMT'},\n",
       "  'RetryAttempts': 0}}"
      ]
     },
     "execution_count": 32,
     "metadata": {},
     "output_type": "execute_result"
    }
   ],
   "source": [
    "create_mode_package_response"
   ]
  },
  {
   "cell_type": "code",
   "execution_count": 1,
   "id": "40e9d0bf",
   "metadata": {},
   "outputs": [],
   "source": [
    "#TODD: create a lambda function"
   ]
  },
  {
   "cell_type": "code",
   "execution_count": null,
   "id": "3c8066c2",
   "metadata": {},
   "outputs": [],
   "source": []
  }
 ],
 "metadata": {
  "kernelspec": {
   "display_name": "conda_python3",
   "language": "python",
   "name": "conda_python3"
  },
  "language_info": {
   "codemirror_mode": {
    "name": "ipython",
    "version": 3
   },
   "file_extension": ".py",
   "mimetype": "text/x-python",
   "name": "python",
   "nbconvert_exporter": "python",
   "pygments_lexer": "ipython3",
   "version": "3.6.13"
  }
 },
 "nbformat": 4,
 "nbformat_minor": 5
}
