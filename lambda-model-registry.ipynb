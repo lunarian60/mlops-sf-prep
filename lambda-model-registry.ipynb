{
 "cells": [
  {
   "cell_type": "markdown",
   "id": "a9fdfcb3",
   "metadata": {},
   "source": [
    "### Model Registry"
   ]
  },
  {
   "cell_type": "code",
   "execution_count": 19,
   "id": "bf3c3fef",
   "metadata": {},
   "outputs": [],
   "source": [
    "import boto3\n",
    "import botocore\n",
    "\n",
    "sm_client = boto3.client(\"sagemaker\")"
   ]
  },
  {
   "cell_type": "code",
   "execution_count": 5,
   "id": "901164dc",
   "metadata": {},
   "outputs": [],
   "source": [
    "model_package_group_name='xgboost-abalone-training'\n",
    "model_package_description = 'Model to predict the age of abalone from physical measurements'"
   ]
  },
  {
   "cell_type": "code",
   "execution_count": 9,
   "id": "f1f4c898",
   "metadata": {},
   "outputs": [],
   "source": [
    "image_uri = \"366743142698.dkr.ecr.ap-northeast-2.amazonaws.com/sagemaker-xgboost:1.3-1\""
   ]
  },
  {
   "cell_type": "code",
   "execution_count": 10,
   "id": "6aade8f6",
   "metadata": {},
   "outputs": [],
   "source": [
    "modelpackage_inference_specification =  {\n",
    "    \"InferenceSpecification\": {\n",
    "      \"Containers\": [\n",
    "         {\n",
    "            \"Image\": image_uri,\n",
    "         }\n",
    "      ],\n",
    "      \"SupportedContentTypes\": [ \"application/x-amz-json-1.1\" ],\n",
    "      \"SupportedResponseMIMETypes\": [ \"application/x-amz-json-1.1\" ],\n",
    "   }\n",
    " }\n"
   ]
  },
  {
   "cell_type": "code",
   "execution_count": 25,
   "id": "4c6c2c63",
   "metadata": {},
   "outputs": [],
   "source": [
    "#TODO: specify the model source\n",
    "model_url = \"\""
   ]
  },
  {
   "cell_type": "code",
   "execution_count": 26,
   "id": "3825e9f4",
   "metadata": {},
   "outputs": [],
   "source": [
    "# Specify the model data\n",
    "create_model_package_input_dict = {\n",
    "    \"ModelPackageGroupName\" : model_package_group_name,\n",
    "    \"ModelPackageDescription\" : model_package_description,\n",
    "    \"ModelApprovalStatus\" : \"PendingManualApproval\"\n",
    "}"
   ]
  },
  {
   "cell_type": "code",
   "execution_count": 27,
   "id": "68b2646e",
   "metadata": {},
   "outputs": [],
   "source": [
    "modelpackage_inference_specification[\"InferenceSpecification\"][\"Containers\"][0][\"ModelDataUrl\"]=model_url"
   ]
  },
  {
   "cell_type": "code",
   "execution_count": 28,
   "id": "07a19948",
   "metadata": {},
   "outputs": [],
   "source": [
    "create_model_package_input_dict.update(modelpackage_inference_specification)"
   ]
  },
  {
   "cell_type": "code",
   "execution_count": 31,
   "id": "404a4ea1",
   "metadata": {},
   "outputs": [],
   "source": [
    "try:\n",
    "    create_mode_package_response = sm_client.create_model_package(**create_model_package_input_dict)\n",
    "except botocore.exceptions.ClientError as ce:\n",
    "    # When model package group does not exit\n",
    "    if ce.operation_name == \"CreateModelPackage\":\n",
    "        if ce.response[\"Error\"][\"Message\"] == \"Model Package Group does not exist.\":\n",
    "            # Create model package group\n",
    "            create_model_package_group_response = sm_client.create_model_package_group(\n",
    "                ModelPackageGroupName=model_package_group_name,\n",
    "                ModelPackageGroupDescription=model_package_description,\n",
    "            )\n",
    "            \n",
    "            create_mode_package_response = sm_client.create_model_package(**create_model_package_input_dict)"
   ]
  },
  {
   "cell_type": "code",
   "execution_count": 32,
   "id": "611078b3",
   "metadata": {},
   "outputs": [
    {
     "data": {
      "text/plain": [
       "{'ModelPackageArn': 'arn:aws:sagemaker:ap-northeast-2:687314952804:model-package/xgboost-abalone-training/1',\n",
       " 'ResponseMetadata': {'RequestId': 'd6bf541c-d208-44fc-a6bc-029a3ba83781',\n",
       "  'HTTPStatusCode': 200,\n",
       "  'HTTPHeaders': {'x-amzn-requestid': 'd6bf541c-d208-44fc-a6bc-029a3ba83781',\n",
       "   'content-type': 'application/x-amz-json-1.1',\n",
       "   'content-length': '108',\n",
       "   'date': 'Tue, 18 Jan 2022 14:06:38 GMT'},\n",
       "  'RetryAttempts': 0}}"
      ]
     },
     "execution_count": 32,
     "metadata": {},
     "output_type": "execute_result"
    }
   ],
   "source": [
    "create_mode_package_response"
   ]
  },
  {
   "cell_type": "code",
   "execution_count": 1,
   "id": "576071ce",
   "metadata": {},
   "outputs": [],
   "source": [
    "#TODD: create a lambda function"
   ]
  },
  {
   "cell_type": "markdown",
   "id": "c47f20f2",
   "metadata": {},
   "source": [
    "### Check model packages from SageMaker studio"
   ]
  },
  {
   "cell_type": "markdown",
   "id": "45da134f",
   "metadata": {},
   "source": [
    "#### Model Registry main screen"
   ]
  },
  {
   "cell_type": "markdown",
   "id": "698a9a6e",
   "metadata": {},
   "source": [
    "![Model Registry main](img/mr-main.png)"
   ]
  },
  {
   "cell_type": "markdown",
   "id": "f02a4fd8",
   "metadata": {},
   "source": [
    "#### Open Model Group"
   ]
  },
  {
   "cell_type": "markdown",
   "id": "f30defa2",
   "metadata": {},
   "source": [
    "![Model Group](img/open-mp.png)"
   ]
  },
  {
   "cell_type": "markdown",
   "id": "2122f88c",
   "metadata": {},
   "source": [
    "#### option in the model package"
   ]
  },
  {
   "cell_type": "markdown",
   "id": "965c8845",
   "metadata": {},
   "source": [
    "![Option in the model package](img/mp-option-version.png)"
   ]
  },
  {
   "cell_type": "markdown",
   "id": "79ddd739",
   "metadata": {},
   "source": [
    "#### update model version status"
   ]
  },
  {
   "cell_type": "markdown",
   "id": "095f33a9",
   "metadata": {},
   "source": [
    "![Model version](img/update-model-version.png)"
   ]
  },
  {
   "cell_type": "markdown",
   "id": "8e72f899",
   "metadata": {},
   "source": [
    "#### (Optional) Delete model packages and model package groups"
   ]
  },
  {
   "cell_type": "code",
   "execution_count": 38,
   "id": "04de4db3",
   "metadata": {},
   "outputs": [
    {
     "name": "stdout",
     "output_type": "stream",
     "text": [
      "{\n",
      "    \"ModelPackageGroupSummaryList\": [\n",
      "        {\n",
      "            \"ModelPackageGroupName\": \"xgboost-abalone-training\",\n",
      "            \"ModelPackageGroupArn\": \"arn:aws:sagemaker:ap-northeast-2:687314952804:model-package-group/xgboost-abalone-training\",\n",
      "            \"ModelPackageGroupDescription\": \"Model to predict the age of abalone from physical measurements\",\n",
      "            \"CreationTime\": 1642514798.662,\n",
      "            \"ModelPackageGroupStatus\": \"Completed\"\n",
      "        },\n",
      "        {\n",
      "            \"ModelPackageGroupName\": \"kmeans-sagemaker-20211229\",\n",
      "            \"ModelPackageGroupArn\": \"arn:aws:sagemaker:ap-northeast-2:687314952804:model-package-group/kmeans-sagemaker-20211229\",\n",
      "            \"ModelPackageGroupDescription\": \"kmeans mlops testing group package\",\n",
      "            \"CreationTime\": 1640744828.227,\n",
      "            \"ModelPackageGroupStatus\": \"Completed\"\n",
      "        },\n",
      "        {\n",
      "            \"ModelPackageGroupName\": \"yolov5-detect-1640243744\",\n",
      "            \"ModelPackageGroupArn\": \"arn:aws:sagemaker:ap-northeast-2:687314952804:model-package-group/yolov5-detect-1640243744\",\n",
      "            \"ModelPackageGroupDescription\": \"Sample model package group\",\n",
      "            \"CreationTime\": 1640243744.115,\n",
      "            \"ModelPackageGroupStatus\": \"Completed\"\n",
      "        }\n",
      "    ]\n",
      "}\n"
     ]
    }
   ],
   "source": [
    "!aws sagemaker list-model-package-groups"
   ]
  },
  {
   "cell_type": "code",
   "execution_count": 37,
   "id": "1ef15abb",
   "metadata": {},
   "outputs": [],
   "source": [
    "!aws sagemaker delete-model-package-group --model-package-group-name kmeans-sagemaker-211222"
   ]
  },
  {
   "cell_type": "code",
   "execution_count": 34,
   "id": "0ba6e324",
   "metadata": {},
   "outputs": [
    {
     "name": "stdout",
     "output_type": "stream",
     "text": [
      "{\n",
      "    \"ModelPackageSummaryList\": [\n",
      "        {\n",
      "            \"ModelPackageGroupName\": \"kmeans-sagemaker-211222\",\n",
      "            \"ModelPackageVersion\": 1,\n",
      "            \"ModelPackageArn\": \"arn:aws:sagemaker:ap-northeast-2:687314952804:model-package/kmeans-sagemaker-211222/1\",\n",
      "            \"ModelPackageDescription\": \"Model to detect 3 different types of irises (Setosa, Versicolour, and Virginica)\",\n",
      "            \"CreationTime\": 1640667066.882,\n",
      "            \"ModelPackageStatus\": \"Completed\",\n",
      "            \"ModelApprovalStatus\": \"PendingManualApproval\"\n",
      "        }\n",
      "    ]\n",
      "}\n"
     ]
    }
   ],
   "source": [
    "!aws sagemaker list-model-packages --model-package-group-name kmeans-sagemaker-211222"
   ]
  },
  {
   "cell_type": "code",
   "execution_count": 36,
   "id": "e24c0ab6",
   "metadata": {},
   "outputs": [],
   "source": [
    "!aws sagemaker delete-model-package --model-package-name arn:aws:sagemaker:ap-northeast-2:687314952804:model-package/kmeans-sagemaker-211222/1"
   ]
  },
  {
   "cell_type": "code",
   "execution_count": null,
   "id": "53626510",
   "metadata": {},
   "outputs": [],
   "source": []
  }
 ],
 "metadata": {
  "kernelspec": {
   "display_name": "conda_python3",
   "language": "python",
   "name": "conda_python3"
  },
  "language_info": {
   "codemirror_mode": {
    "name": "ipython",
    "version": 3
   },
   "file_extension": ".py",
   "mimetype": "text/x-python",
   "name": "python",
   "nbconvert_exporter": "python",
   "pygments_lexer": "ipython3",
   "version": "3.6.13"
  }
 },
 "nbformat": 4,
 "nbformat_minor": 5
}
