{
 "cells": [
  {
   "cell_type": "markdown",
   "id": "a19c2f24",
   "metadata": {},
   "source": [
    "### Lambda 서비스 테스트"
   ]
  },
  {
   "cell_type": "markdown",
   "id": "a1f0953e",
   "metadata": {},
   "source": [
    "#### 작동 방식\n",
    "Lambda가 함수 핸들러를 호출할 때 Lambda 런타임은 함수 핸들러에 다음 두 개의 인수를 전달합니다.\n",
    "\n",
    "* 첫 번째 인수는 event 객체입니다. event 는 처리할 Lambda 함수에 대한 데이터가 포함된 JSON 형식 문서입니다. Lambda 런타임은 event 를 객체로 변환한 후 함수 코드에 전달합니다. 이 객체는 일반적으로 Python dict 유형입니다. 또한 list, str, int, float 또는 NoneType 유형이 될 수 있습니다.\n",
    "\n",
    "* event 객체에는 호출 서비스의 정보가 포함됩니다. 함수를 호출할 때, event 의 구조와 내용을 결정합니다. AWS 서비스는 함수를 호출할 때 event 구조를 정의합니다. AWS 서비스의 event 에 대한 자세한 내용은 다른 서비스와 함께 AWS Lambda [사용 단원](https://docs.aws.amazon.com/ko_kr/lambda/latest/dg/getting-started-create-function.html)을 참조하세요.\n",
    "\n",
    "* 두 번째 인수는 context 객체입니다. 컨텍스트 객체는 런타임에 Lambda에 의해 함수로 전달됩니다. 이 객체는 호출, 함수 및 런타임 환경에 관한 정보를 제공하는 메서드 및 속성들을 제공합니다."
   ]
  },
  {
   "cell_type": "markdown",
   "id": "534311c3",
   "metadata": {},
   "source": [
    "#### Simple Lambda - event inpuut and output"
   ]
  },
  {
   "cell_type": "code",
   "execution_count": null,
   "id": "3c0c41ad",
   "metadata": {},
   "outputs": [],
   "source": [
    "import json\n",
    "\n",
    "def lambda_handler(event, context):\n",
    "    # TODO implement\n",
    "    print(event)\n",
    "    return {\n",
    "        'statusCode': 200,\n",
    "        'body': json.dumps('Hello from Lambda!')\n",
    "    }\n"
   ]
  },
  {
   "cell_type": "markdown",
   "id": "180cafa4",
   "metadata": {},
   "source": [
    "#### Configure test event before testings"
   ]
  },
  {
   "cell_type": "markdown",
   "id": "d3cd11a9",
   "metadata": {},
   "source": [
    "![configure test event](img/test-configure.png)"
   ]
  },
  {
   "cell_type": "markdown",
   "id": "a97e19a2",
   "metadata": {},
   "source": [
    "#### 환경변수 사용해보기"
   ]
  },
  {
   "cell_type": "markdown",
   "id": "3f291e8d",
   "metadata": {},
   "source": [
    "![environmental variable](img/env-var.png)"
   ]
  },
  {
   "cell_type": "code",
   "execution_count": null,
   "id": "8d66e52f",
   "metadata": {},
   "outputs": [],
   "source": [
    "import json\n",
    "import os\n",
    "\n",
    "\n",
    "env_var = os.environ[\"TEST_STRING\"]\n",
    "\n",
    "\n",
    "def lambda_handler(event, context):\n",
    "    # TODO implement\n",
    "    print(env_var)\n",
    "    return {\n",
    "        'statusCode': 200,\n",
    "        'body': json.dumps('Hello from Lambda!')\n",
    "    }\n"
   ]
  },
  {
   "cell_type": "markdown",
   "id": "d661036a",
   "metadata": {},
   "source": [
    "### 다음 목차 실행하기"
   ]
  },
  {
   "cell_type": "code",
   "execution_count": null,
   "id": "0bddde70",
   "metadata": {},
   "outputs": [],
   "source": []
  }
 ],
 "metadata": {
  "kernelspec": {
   "display_name": "conda_python3",
   "language": "python",
   "name": "conda_python3"
  },
  "language_info": {
   "codemirror_mode": {
    "name": "ipython",
    "version": 3
   },
   "file_extension": ".py",
   "mimetype": "text/x-python",
   "name": "python",
   "nbconvert_exporter": "python",
   "pygments_lexer": "ipython3",
   "version": "3.6.13"
  }
 },
 "nbformat": 4,
 "nbformat_minor": 5
}
