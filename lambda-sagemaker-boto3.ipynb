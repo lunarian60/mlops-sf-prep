{
 "cells": [
  {
   "cell_type": "markdown",
   "id": "9ea5f160",
   "metadata": {},
   "source": [
    "### Abalone - SageMaker using boto3"
   ]
  },
  {
   "cell_type": "code",
   "execution_count": 1,
   "id": "afc529eb",
   "metadata": {},
   "outputs": [
    {
     "name": "stdout",
     "output_type": "stream",
     "text": [
      "CPU times: user 1.06 s, sys: 220 ms, total: 1.28 s\n",
      "Wall time: 5.36 s\n"
     ]
    }
   ],
   "source": [
    "%%time\n",
    "\n",
    "import os\n",
    "import boto3\n",
    "import re\n",
    "import sagemaker\n",
    "\n",
    "role = sagemaker.get_execution_role()\n",
    "region = boto3.Session().region_name\n",
    "s3_client = boto3.client(\"s3\")\n",
    "\n",
    "\n",
    "# S3 bucket where the training data is located.\n",
    "data_bucket = f\"sagemaker-sample-files\"\n",
    "data_prefix = \"datasets/tabular/uci_abalone\"\n",
    "data_bucket_path = f\"s3://{data_bucket}\"\n",
    "\n",
    "# S3 bucket for saving code and model artifacts.\n",
    "# Feel free to specify a different bucket and prefix\n",
    "output_bucket = sagemaker.Session().default_bucket()\n",
    "output_prefix = \"sagemaker/DEMO-xgboost-abalone-default\"\n",
    "output_bucket_path = f\"s3://{output_bucket}\"\n",
    "\n",
    "for data_category in [\"train\", \"test\", \"validation\"]:\n",
    "    data_key = \"{0}/{1}/abalone.{1}\".format(data_prefix, data_category)\n",
    "    output_key = \"{0}/{1}/abalone.{1}\".format(output_prefix, data_category)\n",
    "    data_filename = \"abalone.{}\".format(data_category)\n",
    "    s3_client.download_file(data_bucket, data_key, data_filename)\n",
    "    s3_client.upload_file(data_filename, output_bucket, output_key)"
   ]
  },
  {
   "cell_type": "code",
   "execution_count": 33,
   "id": "91699156",
   "metadata": {},
   "outputs": [
    {
     "data": {
      "text/plain": [
       "'s3://sagemaker-ap-northeast-2-687314952804'"
      ]
     },
     "execution_count": 33,
     "metadata": {},
     "output_type": "execute_result"
    }
   ],
   "source": [
    "output_bucket_path"
   ]
  },
  {
   "cell_type": "code",
   "execution_count": 2,
   "id": "9526ceab",
   "metadata": {},
   "outputs": [],
   "source": [
    "container = sagemaker.image_uris.retrieve(\"xgboost\", region, \"1.3-1\")"
   ]
  },
  {
   "cell_type": "code",
   "execution_count": 35,
   "id": "63050fbe",
   "metadata": {},
   "outputs": [
    {
     "data": {
      "text/plain": [
       "'ap-northeast-2'"
      ]
     },
     "execution_count": 35,
     "metadata": {},
     "output_type": "execute_result"
    }
   ],
   "source": [
    "region"
   ]
  },
  {
   "cell_type": "code",
   "execution_count": 3,
   "id": "487bfc79",
   "metadata": {},
   "outputs": [
    {
     "name": "stdout",
     "output_type": "stream",
     "text": [
      "Training job DEMO-xgboost-regression-2022-01-18-13-15-01\n",
      "CPU times: user 15.5 ms, sys: 7.06 ms, total: 22.6 ms\n",
      "Wall time: 226 ms\n"
     ]
    },
    {
     "data": {
      "text/plain": [
       "{'TrainingJobArn': 'arn:aws:sagemaker:ap-northeast-2:687314952804:training-job/demo-xgboost-regression-2022-01-18-13-15-01',\n",
       " 'ResponseMetadata': {'RequestId': 'ff8e60cc-cd7b-47b6-8c54-c144511741b3',\n",
       "  'HTTPStatusCode': 200,\n",
       "  'HTTPHeaders': {'x-amzn-requestid': 'ff8e60cc-cd7b-47b6-8c54-c144511741b3',\n",
       "   'content-type': 'application/x-amz-json-1.1',\n",
       "   'content-length': '123',\n",
       "   'date': 'Tue, 18 Jan 2022 13:15:00 GMT'},\n",
       "  'RetryAttempts': 0}}"
      ]
     },
     "execution_count": 3,
     "metadata": {},
     "output_type": "execute_result"
    }
   ],
   "source": [
    "%%time\n",
    "import boto3\n",
    "from time import gmtime, strftime\n",
    "\n",
    "job_name = f\"DEMO-xgboost-regression-{strftime('%Y-%m-%d-%H-%M-%S', gmtime())}\"\n",
    "print(\"Training job\", job_name)\n",
    "\n",
    "# Ensure that the training and validation data folders generated above are reflected in the \"InputDataConfig\" parameter below.\n",
    "\n",
    "create_training_params = {\n",
    "    \"AlgorithmSpecification\": {\"TrainingImage\": container, \"TrainingInputMode\": \"File\"},\n",
    "    \"RoleArn\": role,\n",
    "    \"OutputDataConfig\": {\"S3OutputPath\": f\"{output_bucket_path}/{output_prefix}/single-xgboost\"},\n",
    "    \"ResourceConfig\": {\"InstanceCount\": 1, \"InstanceType\": \"ml.m5.2xlarge\", \"VolumeSizeInGB\": 5},\n",
    "    \"TrainingJobName\": job_name,\n",
    "    \"HyperParameters\": {\n",
    "        \"max_depth\": \"5\",\n",
    "        \"eta\": \"0.2\",\n",
    "        \"gamma\": \"4\",\n",
    "        \"min_child_weight\": \"6\",\n",
    "        \"subsample\": \"0.7\",\n",
    "        \"objective\": \"reg:linear\",\n",
    "        \"num_round\": \"50\",\n",
    "        \"verbosity\": \"2\",\n",
    "    },\n",
    "    \"StoppingCondition\": {\"MaxRuntimeInSeconds\": 3600},\n",
    "    \"InputDataConfig\": [\n",
    "        {\n",
    "            \"ChannelName\": \"train\",\n",
    "            \"DataSource\": {\n",
    "                \"S3DataSource\": {\n",
    "                    \"S3DataType\": \"S3Prefix\",\n",
    "                    \"S3Uri\": f\"{output_bucket_path}/{output_prefix}/train\",\n",
    "                    \"S3DataDistributionType\": \"FullyReplicated\",\n",
    "                }\n",
    "            },\n",
    "            \"ContentType\": \"libsvm\",\n",
    "            \"CompressionType\": \"None\",\n",
    "        },\n",
    "        {\n",
    "            \"ChannelName\": \"validation\",\n",
    "            \"DataSource\": {\n",
    "                \"S3DataSource\": {\n",
    "                    \"S3DataType\": \"S3Prefix\",\n",
    "                    \"S3Uri\": f\"{output_bucket_path}/{output_prefix}/validation\",\n",
    "                    \"S3DataDistributionType\": \"FullyReplicated\",\n",
    "                }\n",
    "            },\n",
    "            \"ContentType\": \"libsvm\",\n",
    "            \"CompressionType\": \"None\",\n",
    "        },\n",
    "    ],\n",
    "}\n",
    "\n",
    "\n",
    "client = boto3.client(\"sagemaker\", region_name=region)\n",
    "client.create_training_job(**create_training_params)"
   ]
  },
  {
   "cell_type": "markdown",
   "id": "319c0329",
   "metadata": {},
   "source": [
    "### BOTO3"
   ]
  },
  {
   "cell_type": "markdown",
   "id": "a80e42d4",
   "metadata": {},
   "source": [
    "https://boto3.amazonaws.com/v1/documentation/api/1.9.42/reference/services/sagemaker.html"
   ]
  },
  {
   "cell_type": "code",
   "execution_count": 7,
   "id": "5ddf9cc0",
   "metadata": {},
   "outputs": [],
   "source": [
    "#TODO: Describe training job"
   ]
  },
  {
   "cell_type": "code",
   "execution_count": null,
   "id": "04f7c678",
   "metadata": {},
   "outputs": [],
   "source": [
    "#TODO: add an IAM role/policy to control sagemaker"
   ]
  },
  {
   "cell_type": "markdown",
   "id": "9311022a",
   "metadata": {},
   "source": [
    "![IAM](img/iam.png)"
   ]
  },
  {
   "cell_type": "code",
   "execution_count": null,
   "id": "ff755781",
   "metadata": {},
   "outputs": [],
   "source": []
  }
 ],
 "metadata": {
  "kernelspec": {
   "display_name": "conda_python3",
   "language": "python",
   "name": "conda_python3"
  },
  "language_info": {
   "codemirror_mode": {
    "name": "ipython",
    "version": 3
   },
   "file_extension": ".py",
   "mimetype": "text/x-python",
   "name": "python",
   "nbconvert_exporter": "python",
   "pygments_lexer": "ipython3",
   "version": "3.6.13"
  }
 },
 "nbformat": 4,
 "nbformat_minor": 5
}
